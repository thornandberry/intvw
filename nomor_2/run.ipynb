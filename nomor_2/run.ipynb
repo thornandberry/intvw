{
 "cells": [
  {
   "cell_type": "code",
   "execution_count": 51,
   "metadata": {},
   "outputs": [
    {
     "name": "stdout",
     "output_type": "stream",
     "text": [
      "Collecting openpyxl\n",
      "  Downloading openpyxl-3.0.10-py2.py3-none-any.whl (242 kB)\n",
      "Collecting et-xmlfile\n",
      "  Using cached et_xmlfile-1.1.0-py3-none-any.whl (4.7 kB)\n",
      "Installing collected packages: et-xmlfile, openpyxl\n",
      "Successfully installed et-xmlfile-1.1.0 openpyxl-3.0.10\n"
     ]
    },
    {
     "name": "stderr",
     "output_type": "stream",
     "text": [
      "WARNING: You are using pip version 20.1.1; however, version 22.2.2 is available.\n",
      "You should consider upgrading via the 'c:\\users\\ekaap\\appdata\\local\\programs\\python\\python38-32\\python.exe -m pip install --upgrade pip' command.\n"
     ]
    }
   ],
   "source": [
    "!pip install openpyxl"
   ]
  },
  {
   "cell_type": "code",
   "execution_count": 39,
   "metadata": {},
   "outputs": [],
   "source": [
    "import pandas as pd\n",
    "from collections import Counter\n",
    "import openpyxl\n",
    "import numpy as np"
   ]
  },
  {
   "cell_type": "code",
   "execution_count": 57,
   "metadata": {},
   "outputs": [],
   "source": [
    "df = pd.read_json(open(\"soal-2.json\", encoding='utf-8'), orient='records')"
   ]
  },
  {
   "cell_type": "code",
   "execution_count": 58,
   "metadata": {},
   "outputs": [
    {
     "name": "stderr",
     "output_type": "stream",
     "text": [
      "<ipython-input-58-1e36a59bdeb0>:2: FutureWarning: The default value of regex will change from True to False in a future version.\n",
      "  df['komoditas_clean'] = df['komoditas'].str.lower().str.replace('[^a-zA-Z0-9]', ' ')\n"
     ]
    }
   ],
   "source": [
    "# remove non alphabet\n",
    "df['komoditas_clean'] = df['komoditas'].str.lower().str.replace('[^a-zA-Z0-9]', ' ')"
   ]
  },
  {
   "cell_type": "code",
   "execution_count": 28,
   "metadata": {},
   "outputs": [
    {
     "data": {
      "text/plain": [
       "dict_items([('lele', 642), ('', 1329), ('bawal', 124), ('nila', 320), ('kakap', 127), ('kembung', 147), ('tongkol', 289), ('salem', 19), ('ikan', 214), ('salam', 1), ('kerapu', 25), ('mas', 417), ('pindang', 2), ('gurame', 83), ('patin', 48), ('bandeng', 15), ('jaer', 4), ('mujaer', 86), ('mujair', 49), ('peda', 1), ('kepala', 2), ('dan', 23), ('gurami', 3), ('cumi', 11), ('lelw', 1), ('emas', 1), ('kembug', 1), ('udang', 12), ('kepiting', 5), ('kerang', 4), ('gabus', 1), ('parin', 1), ('ayam', 3), ('laut', 24), ('tawar', 4), ('soto', 1), ('babat', 2), ('kikil', 1), ('sea', 1), ('food', 1), ('barunang', 1), ('pecel', 5), ('bebek', 2), ('goreng', 4), ('jambal', 1), ('gembung', 1), ('dll', 4), ('bakar', 1), ('sate', 1), ('usus', 1), ('nasi', 2), ('uduk', 2), ('sotobayam', 1), ('munkar', 2), ('cakalang', 2), ('majaer', 1), ('mujir', 1), ('krapu', 1), ('kerpu', 1), ('man', 1), ('tingkol', 1), ('pari', 1), ('baracuda', 1), ('merah', 11), ('ikn', 1), ('impun', 1), ('muajir', 2), ('kele', 1), ('tngkol', 1), ('nil', 1), ('nilem', 1), ('ikanlele', 1), ('etong', 1), ('hitam', 1), ('tenggiri', 1)])"
      ]
     },
     "execution_count": 28,
     "metadata": {},
     "output_type": "execute_result"
    }
   ],
   "source": [
    "result = Counter(\" \".join(df['komoditas_clean'].values.tolist()).split(\" \")).items()\n",
    "result"
   ]
  },
  {
   "cell_type": "code",
   "execution_count": 59,
   "metadata": {},
   "outputs": [],
   "source": [
    "# Replace values step 1\n",
    "replacement = {\n",
    "    \"salam\": \"salem\",\n",
    "    \"mujaer\": \"mujair\",\n",
    "    \"majaer\": \"mujair\",\n",
    "    \"mujir\": \"mujair\",\n",
    "    \"muajir\": \"mujair\",\n",
    "    \"ikan\": \"\",\n",
    "    \"ikn\": \"\",\n",
    "    r\"\\bdan\\b\": \"\",\n",
    "    \"gurami\": \"gurame\",\n",
    "    \"lelw\": \"lele\",\n",
    "    \"ikanlele\": \"lele\",\n",
    "    \"kele\": \"lele\",\n",
    "    \"emas\": \"mas\",\n",
    "    \"kembug\": \"kembung\",\n",
    "    \"parin\": \"patin\",\n",
    "    \"gembung\": \"kembung\",\n",
    "    \"krapu\": \"kerapu\",\n",
    "    \"kerpu\": \"kerapu\",\n",
    "    \"tingkol\": \"tongkol\",\n",
    "    \"tngkol\": \"tongkol\",\n",
    "    \"nilem\": \"nila\",\n",
    "    r\"\\bnil\\b\": \"\",\n",
    "    r\"\\bkepala\\b\": \"\",\n",
    "    r\"\\bmunkar\\b\": \"mujair\",\n",
    "    r\"\\bmas\\b\": \"mas\",\n",
    "    r\"\\bpari\\b\": \"laut\",\n",
    "    r\"\\bbaracuda\\b\": \"laut\",\n",
    "    r\"\\betong\\b\": \"laut\",\n",
    "    r\"\\btenggiri\\b\": \"laut\",\n",
    "    r\"\\bmerah\\b\": \"\",\n",
    "    r\"\\bhitam\\b\": \"\"\n",
    "}\n",
    "\n",
    "df['komoditas_clean'] = df['komoditas_clean'].replace(replacement, regex=True)"
   ]
  },
  {
   "cell_type": "code",
   "execution_count": 30,
   "metadata": {},
   "outputs": [
    {
     "data": {
      "text/plain": [
       "dict_items([('lele', 645), ('', 1582), ('bawal', 124), ('nila', 321), ('kakap', 127), ('kembung', 149), ('tongkol', 291), ('salem', 20), ('kerapu', 27), ('mas', 418), ('pindang', 2), ('gurame', 86), ('patin', 49), ('bandeng', 15), ('jaer', 4), ('mujair', 141), ('peda', 1), ('cumi', 11), ('udang', 12), ('kepiting', 5), ('kerang', 4), ('gabus', 1), ('ayam', 3), ('laut', 28), ('tawar', 4), ('soto', 1), ('babat', 2), ('kikil', 1), ('sea', 1), ('food', 1), ('barunang', 1), ('pecel', 5), ('bebek', 2), ('goreng', 4), ('jambal', 1), ('dll', 4), ('bakar', 1), ('sate', 1), ('usus', 1), ('nasi', 2), ('uduk', 2), ('sotobayam', 1), ('cakalang', 2), ('man', 1), ('impun', 1)])"
      ]
     },
     "execution_count": 30,
     "metadata": {},
     "output_type": "execute_result"
    }
   ],
   "source": [
    "result = Counter(\" \".join(df['komoditas_clean'].values.tolist()).split(\" \")).items()\n",
    "result"
   ]
  },
  {
   "cell_type": "code",
   "execution_count": 60,
   "metadata": {},
   "outputs": [],
   "source": [
    "# Mark possibly irrelevant entries\n",
    "keywords = [\n",
    "    \"ayam\", \"soto\", \"babat\", \"kikil\", \"nasi\", \"uduk\", \"sotobayam\", \"sea\", \"food\", \"pecel\", \"bebek\",\n",
    "    \"goreng\", \"dll\", \"bakar\", \"sate\", \"usus\"\n",
    "]\n",
    "\n",
    "df[\"possibly_irr\"] = df['komoditas_clean'].apply(lambda x: 1 if any(i in x for i in keywords) else 0)\n",
    "\n",
    "# Remove possibly irrelevant entries\n",
    "df = df[df[\"possibly_irr\"] == 0]"
   ]
  },
  {
   "cell_type": "code",
   "execution_count": 25,
   "metadata": {},
   "outputs": [],
   "source": [
    "df.to_excel(\"df.xlsx\")"
   ]
  },
  {
   "cell_type": "code",
   "execution_count": 61,
   "metadata": {},
   "outputs": [],
   "source": [
    "# Remove berat without number\n",
    "\n",
    "df= df[df[\"berat\"].str.contains(r'[0-9]')]\n",
    "\n",
    "# Replace comma with space\n",
    "\n",
    "df['berat_clean'] = df['berat'].str.lower().str.replace(',', ' ')"
   ]
  },
  {
   "cell_type": "code",
   "execution_count": 63,
   "metadata": {},
   "outputs": [],
   "source": [
    "# Mark one word only\n",
    "\n",
    "df['one_word'] = df['komoditas_clean'].str.match('^[a-zA-Z0-9_]+$')"
   ]
  },
  {
   "cell_type": "code",
   "execution_count": 102,
   "metadata": {},
   "outputs": [
    {
     "name": "stderr",
     "output_type": "stream",
     "text": [
      "<ipython-input-102-31979056b6b6>:14: SettingWithCopyWarning: \n",
      "A value is trying to be set on a copy of a slice from a DataFrame\n",
      "\n",
      "See the caveats in the documentation: https://pandas.pydata.org/pandas-docs/stable/user_guide/indexing.html#returning-a-view-versus-a-copy\n",
      "  df_one_word[\"berat_final\"][i] = df_one_word[\"berat_final_2\"][i]\n",
      "<ipython-input-102-31979056b6b6>:12: SettingWithCopyWarning: \n",
      "A value is trying to be set on a copy of a slice from a DataFrame\n",
      "\n",
      "See the caveats in the documentation: https://pandas.pydata.org/pandas-docs/stable/user_guide/indexing.html#returning-a-view-versus-a-copy\n",
      "  df_one_word[\"berat_final\"][i] = df_one_word[\"berat_final_1\"][i]\n",
      "<ipython-input-102-31979056b6b6>:16: SettingWithCopyWarning: \n",
      "A value is trying to be set on a copy of a slice from a DataFrame\n",
      "\n",
      "See the caveats in the documentation: https://pandas.pydata.org/pandas-docs/stable/user_guide/indexing.html#returning-a-view-versus-a-copy\n",
      "  df_one_word[\"berat_final\"][i] = df_one_word[\"berat_final_3\"][i]\n"
     ]
    }
   ],
   "source": [
    "# Process one word\n",
    "df_one_word = df[df['one_word'] == True].reset_index()\n",
    "\n",
    "df_one_word[\"berat_final_1\"] = df_one_word[\"berat_clean\"].str.extract(pat= r'([0-9](?=\\skg))')\n",
    "df_one_word[\"berat_final_2\"] = df_one_word[\"berat_clean\"].str.extract(pat= r'([0-9](?=kg))')\n",
    "df_one_word[\"berat_final_3\"] = df_one_word[\"berat_clean\"].str.extract(pat= r'([0-9])')\n",
    "\n",
    "df_one_word[\"berat_final\"] = None\n",
    "\n",
    "for i in range(len(df_one_word[\"berat_final\"])):\n",
    "    if str(df_one_word[\"berat_final_1\"][i]) != 'nan':\n",
    "        df_one_word[\"berat_final\"][i] = df_one_word[\"berat_final_1\"][i]\n",
    "    elif str(df_one_word[\"berat_final_2\"][i]) != 'nan':\n",
    "        df_one_word[\"berat_final\"][i] = df_one_word[\"berat_final_2\"][i]\n",
    "    else:\n",
    "        df_one_word[\"berat_final\"][i] = df_one_word[\"berat_final_3\"][i]\n",
    "\n",
    "df_one_word = df_one_word[['komoditas_clean', 'berat_final']]\n",
    "df_one_word.columns = ['komoditas', 'berat']"
   ]
  },
  {
   "cell_type": "code",
   "execution_count": 105,
   "metadata": {},
   "outputs": [],
   "source": [
    "counts = df_one_word.groupby(['komoditas'])['berat'].count().sort_values(ascending=False)"
   ]
  }
 ],
 "metadata": {
  "kernelspec": {
   "display_name": "Python 3.8.5 32-bit",
   "language": "python",
   "name": "python3"
  },
  "language_info": {
   "codemirror_mode": {
    "name": "ipython",
    "version": 3
   },
   "file_extension": ".py",
   "mimetype": "text/x-python",
   "name": "python",
   "nbconvert_exporter": "python",
   "pygments_lexer": "ipython3",
   "version": "3.8.5"
  },
  "orig_nbformat": 4,
  "vscode": {
   "interpreter": {
    "hash": "bd5ce4162fb66514aa491513bee7cbe1de0a52499e68c18efed3d8900d18185b"
   }
  }
 },
 "nbformat": 4,
 "nbformat_minor": 2
}
