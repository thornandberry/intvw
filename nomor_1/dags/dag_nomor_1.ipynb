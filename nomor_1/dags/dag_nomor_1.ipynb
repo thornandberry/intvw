{
 "cells": [
  {
   "cell_type": "code",
   "execution_count": 39,
   "metadata": {},
   "outputs": [],
   "source": [
    "import sqlite3\n",
    "import pandas as pd"
   ]
  },
  {
   "cell_type": "code",
   "execution_count": null,
   "metadata": {},
   "outputs": [],
   "source": [
    "query_insert = open('../queries/soal-1.sql').read()\n",
    "\n",
    "conn = sqlite3.connect('../data/dwh.db')\n",
    "cur = conn.cursor()\n",
    "cur.executescript(query_insert)\n",
    "conn.close()"
   ]
  }
 ],
 "metadata": {
  "kernelspec": {
   "display_name": "Python 3.8.5 32-bit",
   "language": "python",
   "name": "python3"
  },
  "language_info": {
   "codemirror_mode": {
    "name": "ipython",
    "version": 3
   },
   "file_extension": ".py",
   "mimetype": "text/x-python",
   "name": "python",
   "nbconvert_exporter": "python",
   "pygments_lexer": "ipython3",
   "version": "3.8.5"
  },
  "orig_nbformat": 4,
  "vscode": {
   "interpreter": {
    "hash": "bd5ce4162fb66514aa491513bee7cbe1de0a52499e68c18efed3d8900d18185b"
   }
  }
 },
 "nbformat": 4,
 "nbformat_minor": 2
}
